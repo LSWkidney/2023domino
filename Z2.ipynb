{
 "cells": [
  {
   "cell_type": "code",
   "execution_count": 11,
   "metadata": {},
   "outputs": [],
   "source": [
    "from pennylane import numpy as np\n",
    "import pennylane as qml "
   ]
  },
  {
   "cell_type": "code",
   "execution_count": 71,
   "metadata": {},
   "outputs": [],
   "source": [
    "N = 5\n",
    "p = 3\n",
    "\n",
    "\n",
    "dev = qml.device(\"default.qubit\", wires = N )\n"
   ]
  },
  {
   "cell_type": "code",
   "execution_count": 72,
   "metadata": {},
   "outputs": [
    {
     "name": "stdout",
     "output_type": "stream",
     "text": [
      "  (-1.0) [Z0 Z1]\n",
      "+ (-1.0) [Z1 Z2]\n",
      "+ (-1.0) [Z2 Z3]\n",
      "+ (-1.0) [Z3 Z4]\n",
      "+ (-1.0) [Z4 Z0]\n"
     ]
    }
   ],
   "source": [
    "w = np.arange(N)\n",
    "def circuit(param, # p X (N+N) thetas and phis  \n",
    "            w #wires list \n",
    "            ):\n",
    "    (p, _)  = param.shape\n",
    "    N = len(w)\n",
    "    # prepare |+> state with Hadamard gate \n",
    "    for i in range(N):\n",
    "        qml.Hadamard(wires = w[i])\n",
    "    # parametrized circuit with depth p \n",
    "    for step in range(p):\n",
    "        for i in range(N):\n",
    "            qml.RX(param[step, i], wires = w[i]) # exp(-i X phi/2)\n",
    "        for i in range(N-1):\n",
    "            qml.CNOT(wires = w[i: i+2])\n",
    "            qml.RZ(param[step, i], wires = w[i+1])\n",
    "            qml.CNOT(wires = w[i: i+2])\n",
    "        qml.CNOT(wires = [w[N-1], w[0]])\n",
    "        qml.RZ(param[step, N-1], wires = w[N-1])\n",
    "        qml.CNOT(wires = [w[N-1], w[0]])\n",
    "\n",
    "\n",
    "# Hamiltonian definition H = sum_i (- Z_i * Z_{i+1})\n",
    "coeffs = -1 * np.ones((N,))\n",
    "obs = [qml.PauliZ(i)@qml.PauliZ(i+1) for i in range(N-1)]\n",
    "obs.append(qml.PauliZ(N-1)@qml.PauliZ(0))\n",
    "H = qml.Hamiltonian(coeffs, obs)\n",
    "print(H)\n"
   ]
  },
  {
   "cell_type": "code",
   "execution_count": 73,
   "metadata": {},
   "outputs": [],
   "source": [
    "\n",
    "@qml.qnode(dev, interface='autograd')\n",
    "def cost_fn(param):\n",
    "    circuit(param, w = range(N))\n",
    "    return qml.expval(H)\n",
    "\n",
    "opt = qml.GradientDescentOptimizer(stepsize = 0.1 )\n"
   ]
  },
  {
   "cell_type": "code",
   "execution_count": 74,
   "metadata": {},
   "outputs": [
    {
     "name": "stdout",
     "output_type": "stream",
     "text": [
      "Step = 0,  Energy = -1.20268371 Ha\n",
      "Step = 20,  Energy = -2.33608782 Ha\n",
      "Step = 40,  Energy = -2.78327061 Ha\n",
      "Step = 60,  Energy = -3.04597973 Ha\n",
      "Step = 80,  Energy = -4.37143747 Ha\n",
      "Step = 100,  Energy = -4.99489650 Ha\n",
      "Step = 120,  Energy = -4.99791026 Ha\n",
      "Step = 140,  Energy = -4.99900645 Ha\n",
      "Step = 160,  Energy = -4.99950305 Ha\n",
      "Step = 180,  Energy = -4.99974509 Ha\n",
      "Step = 200,  Energy = -4.99986755 Ha\n",
      "Step = 220,  Energy = -4.99993071 Ha\n",
      "Step = 240,  Energy = -4.99996363 Ha\n",
      "\n",
      "Final value of the ground-state energy = -4.99997001 Ha\n"
     ]
    }
   ],
   "source": [
    "param = np.random.randn(p, 2*N, requires_grad = True)\n",
    "energy = [cost_fn(param)]\n",
    "max_iterations = 300 \n",
    "conv_tol = 1e-06 \n",
    "for n in range(max_iterations):\n",
    "    param, prev_energy = opt.step_and_cost(cost_fn, param)\n",
    "    energy.append(cost_fn(param))\n",
    "    conv = np.abs(energy[-1]-prev_energy)\n",
    "\n",
    "    if n%20 ==0: \n",
    "        print(f\"Step = {n},  Energy = {energy[-1]:.8f} Ha\")\n",
    "\n",
    "    if conv <= conv_tol:\n",
    "        break\n",
    "\n",
    "print(\"\\n\" f\"Final value of the ground-state energy = {energy[-1]:.8f} Ha\")\n"
   ]
  },
  {
   "cell_type": "code",
   "execution_count": 62,
   "metadata": {},
   "outputs": [
    {
     "data": {
      "text/plain": [
       "(array([-4.+0.j,  0.+0.j,  0.+0.j,  0.+0.j,  0.+0.j,  4.+0.j,  0.+0.j,\n",
       "         0.+0.j,  0.+0.j,  0.+0.j,  4.+0.j,  0.+0.j,  0.+0.j,  0.+0.j,\n",
       "         0.+0.j, -4.+0.j]),\n",
       " array([[1.+0.j, 0.+0.j, 0.+0.j, 0.+0.j, 0.+0.j, 0.+0.j, 0.+0.j, 0.+0.j,\n",
       "         0.+0.j, 0.+0.j, 0.+0.j, 0.+0.j, 0.+0.j, 0.+0.j, 0.+0.j, 0.+0.j],\n",
       "        [0.+0.j, 1.+0.j, 0.+0.j, 0.+0.j, 0.+0.j, 0.+0.j, 0.+0.j, 0.+0.j,\n",
       "         0.+0.j, 0.+0.j, 0.+0.j, 0.+0.j, 0.+0.j, 0.+0.j, 0.+0.j, 0.+0.j],\n",
       "        [0.+0.j, 0.+0.j, 1.+0.j, 0.+0.j, 0.+0.j, 0.+0.j, 0.+0.j, 0.+0.j,\n",
       "         0.+0.j, 0.+0.j, 0.+0.j, 0.+0.j, 0.+0.j, 0.+0.j, 0.+0.j, 0.+0.j],\n",
       "        [0.+0.j, 0.+0.j, 0.+0.j, 1.+0.j, 0.+0.j, 0.+0.j, 0.+0.j, 0.+0.j,\n",
       "         0.+0.j, 0.+0.j, 0.+0.j, 0.+0.j, 0.+0.j, 0.+0.j, 0.+0.j, 0.+0.j],\n",
       "        [0.+0.j, 0.+0.j, 0.+0.j, 0.+0.j, 1.+0.j, 0.+0.j, 0.+0.j, 0.+0.j,\n",
       "         0.+0.j, 0.+0.j, 0.+0.j, 0.+0.j, 0.+0.j, 0.+0.j, 0.+0.j, 0.+0.j],\n",
       "        [0.+0.j, 0.+0.j, 0.+0.j, 0.+0.j, 0.+0.j, 1.+0.j, 0.+0.j, 0.+0.j,\n",
       "         0.+0.j, 0.+0.j, 0.+0.j, 0.+0.j, 0.+0.j, 0.+0.j, 0.+0.j, 0.+0.j],\n",
       "        [0.+0.j, 0.+0.j, 0.+0.j, 0.+0.j, 0.+0.j, 0.+0.j, 1.+0.j, 0.+0.j,\n",
       "         0.+0.j, 0.+0.j, 0.+0.j, 0.+0.j, 0.+0.j, 0.+0.j, 0.+0.j, 0.+0.j],\n",
       "        [0.+0.j, 0.+0.j, 0.+0.j, 0.+0.j, 0.+0.j, 0.+0.j, 0.+0.j, 1.+0.j,\n",
       "         0.+0.j, 0.+0.j, 0.+0.j, 0.+0.j, 0.+0.j, 0.+0.j, 0.+0.j, 0.+0.j],\n",
       "        [0.+0.j, 0.+0.j, 0.+0.j, 0.+0.j, 0.+0.j, 0.+0.j, 0.+0.j, 0.+0.j,\n",
       "         1.+0.j, 0.+0.j, 0.+0.j, 0.+0.j, 0.+0.j, 0.+0.j, 0.+0.j, 0.+0.j],\n",
       "        [0.+0.j, 0.+0.j, 0.+0.j, 0.+0.j, 0.+0.j, 0.+0.j, 0.+0.j, 0.+0.j,\n",
       "         0.+0.j, 1.+0.j, 0.+0.j, 0.+0.j, 0.+0.j, 0.+0.j, 0.+0.j, 0.+0.j],\n",
       "        [0.+0.j, 0.+0.j, 0.+0.j, 0.+0.j, 0.+0.j, 0.+0.j, 0.+0.j, 0.+0.j,\n",
       "         0.+0.j, 0.+0.j, 1.+0.j, 0.+0.j, 0.+0.j, 0.+0.j, 0.+0.j, 0.+0.j],\n",
       "        [0.+0.j, 0.+0.j, 0.+0.j, 0.+0.j, 0.+0.j, 0.+0.j, 0.+0.j, 0.+0.j,\n",
       "         0.+0.j, 0.+0.j, 0.+0.j, 1.+0.j, 0.+0.j, 0.+0.j, 0.+0.j, 0.+0.j],\n",
       "        [0.+0.j, 0.+0.j, 0.+0.j, 0.+0.j, 0.+0.j, 0.+0.j, 0.+0.j, 0.+0.j,\n",
       "         0.+0.j, 0.+0.j, 0.+0.j, 0.+0.j, 1.+0.j, 0.+0.j, 0.+0.j, 0.+0.j],\n",
       "        [0.+0.j, 0.+0.j, 0.+0.j, 0.+0.j, 0.+0.j, 0.+0.j, 0.+0.j, 0.+0.j,\n",
       "         0.+0.j, 0.+0.j, 0.+0.j, 0.+0.j, 0.+0.j, 1.+0.j, 0.+0.j, 0.+0.j],\n",
       "        [0.+0.j, 0.+0.j, 0.+0.j, 0.+0.j, 0.+0.j, 0.+0.j, 0.+0.j, 0.+0.j,\n",
       "         0.+0.j, 0.+0.j, 0.+0.j, 0.+0.j, 0.+0.j, 0.+0.j, 1.+0.j, 0.+0.j],\n",
       "        [0.+0.j, 0.+0.j, 0.+0.j, 0.+0.j, 0.+0.j, 0.+0.j, 0.+0.j, 0.+0.j,\n",
       "         0.+0.j, 0.+0.j, 0.+0.j, 0.+0.j, 0.+0.j, 0.+0.j, 0.+0.j, 1.+0.j]]))"
      ]
     },
     "execution_count": 62,
     "metadata": {},
     "output_type": "execute_result"
    }
   ],
   "source": [
    "m = qml.matrix(H)\n",
    "np.linalg.eig(m)"
   ]
  },
  {
   "cell_type": "code",
   "execution_count": null,
   "metadata": {},
   "outputs": [],
   "source": []
  }
 ],
 "metadata": {
  "kernelspec": {
   "display_name": "Python 3.10.11 ('domino')",
   "language": "python",
   "name": "python3"
  },
  "language_info": {
   "codemirror_mode": {
    "name": "ipython",
    "version": 3
   },
   "file_extension": ".py",
   "mimetype": "text/x-python",
   "name": "python",
   "nbconvert_exporter": "python",
   "pygments_lexer": "ipython3",
   "version": "3.10.11"
  },
  "orig_nbformat": 4,
  "vscode": {
   "interpreter": {
    "hash": "31eb509440305b4ce17d152b5260c4ff100796c11d3e74e9b7f541f3e96aa3b6"
   }
  }
 },
 "nbformat": 4,
 "nbformat_minor": 2
}
